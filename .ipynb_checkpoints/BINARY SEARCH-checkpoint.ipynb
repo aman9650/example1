{
 "cells": [
  {
   "cell_type": "code",
   "execution_count": null,
   "id": "71fdc81d",
   "metadata": {},
   "outputs": [],
   "source": [
    "import random as rn\n",
    "print(\"********************* BINARY SEARCH ALGORITHM *********************\")\n",
    "start= rn.randint(0,100)           #CREATING RANDOM LIST\n",
    "\n",
    "end = rn.randint(start+2,100)\n",
    "\n",
    "list1=[x for x in range(start,end, 2)]\n",
    "\n",
    "print(list1)\n",
    "\n",
    "user_input=int(input(\"Enter any number from random list to find the index of that number :\"))    #USER INPUT\n",
    "\n",
    "def binary_search(list1, user_list):\n",
    "    lower=0\n",
    "    upper =len(list1)-1\n",
    "    \n",
    "    while lower<=upper:\n",
    "        mid=(lower+upper)//2  \n",
    "        \n",
    "        if list1[mid] < user_input:       #IF ENTERED NUMBER IS GREATER THAN MIDDLE ELEMENT\n",
    "            lower =mid+1\n",
    "            \n",
    "        elif list1[mid] > user_input:     #IF ENTERED NUMBER IS LESS THAN MIDDLE ELEMENT\n",
    "            upper =mid-1\n",
    "            \n",
    "        else:\n",
    "            return mid                     #IF ENTERED NUMBER IS EQUAL TO MIDDLE ELEMENT\n",
    "    return -1\n",
    "\n",
    "result = binary_search(list1,user_input)   \n",
    "\n",
    "if result !=-1:\n",
    "    print(str(user_input)+\" is present at index \"+str(result))\n",
    "else:\n",
    "    print(\"Number is not present in list\")\n"
   ]
  },
  {
   "cell_type": "code",
   "execution_count": null,
   "id": "3635d63a",
   "metadata": {},
   "outputs": [],
   "source": []
  },
  {
   "cell_type": "code",
   "execution_count": null,
   "id": "b00c0783",
   "metadata": {},
   "outputs": [],
   "source": []
  }
 ],
 "metadata": {
  "kernelspec": {
   "display_name": "Python 3",
   "language": "python",
   "name": "python3"
  },
  "language_info": {
   "codemirror_mode": {
    "name": "ipython",
    "version": 3
   },
   "file_extension": ".py",
   "mimetype": "text/x-python",
   "name": "python",
   "nbconvert_exporter": "python",
   "pygments_lexer": "ipython3",
   "version": "3.8.8"
  }
 },
 "nbformat": 4,
 "nbformat_minor": 5
}
